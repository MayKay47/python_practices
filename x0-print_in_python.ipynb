{
 "cells": [
  {
   "cell_type": "code",
   "execution_count": 3,
   "id": "1dcbc108",
   "metadata": {},
   "outputs": [
    {
     "name": "stdout",
     "output_type": "stream",
     "text": [
      "Mayen\n"
     ]
    }
   ],
   "source": [
    "# Exploring the print function: print()\n",
    "print(\"Mayen\")"
   ]
  },
  {
   "cell_type": "code",
   "execution_count": 4,
   "id": "2555baed",
   "metadata": {},
   "outputs": [
    {
     "name": "stdout",
     "output_type": "stream",
     "text": [
      "5\n"
     ]
    }
   ],
   "source": [
    "# Declare a variable, x\n",
    "x=5\n",
    "print(x)"
   ]
  },
  {
   "cell_type": "code",
   "execution_count": 5,
   "id": "7056c9bd",
   "metadata": {},
   "outputs": [
    {
     "name": "stdout",
     "output_type": "stream",
     "text": [
      "3 7\n"
     ]
    }
   ],
   "source": [
    "# Declare multiple variables, a and b\n",
    "a=3\n",
    "b=7\n",
    "print(a,b)"
   ]
  },
  {
   "cell_type": "code",
   "execution_count": 7,
   "id": "11cbb083",
   "metadata": {},
   "outputs": [
    {
     "name": "stdout",
     "output_type": "stream",
     "text": [
      "The value of x is 4\n"
     ]
    }
   ],
   "source": [
    "# To concatenate strings and variables\n",
    "x=4\n",
    "print(\"The value of x is\", str(x))"
   ]
  },
  {
   "cell_type": "code",
   "execution_count": 8,
   "id": "1d83f4e0",
   "metadata": {},
   "outputs": [
    {
     "name": "stdout",
     "output_type": "stream",
     "text": [
      "Mayen was born in the year 1994\n"
     ]
    }
   ],
   "source": [
    "# Another example to the previous\n",
    "q=1994\n",
    "print(\"Mayen was born in the year\", str(q))"
   ]
  },
  {
   "cell_type": "code",
   "execution_count": 12,
   "id": "61dd3836",
   "metadata": {},
   "outputs": [
    {
     "name": "stdout",
     "output_type": "stream",
     "text": [
      "I have 6 packets of biscuits to give out and 6 more to keep\n",
      "I have 6 packets of biscuits to give out and 6 more to keep\n"
     ]
    }
   ],
   "source": [
    "# Using f-strings (formatted string literals)\n",
    "d=6\n",
    "print(f\"I have {d} packets of biscuits to give out and {d} more to keep\")\n",
    "# instead of\n",
    "print(\"I have\", str(d), \"packets of biscuits to give out and\", str(d), \"more to keep\")"
   ]
  },
  {
   "cell_type": "code",
   "execution_count": 18,
   "id": "aa9b7d98",
   "metadata": {},
   "outputs": [
    {
     "name": "stdout",
     "output_type": "stream",
     "text": [
      "Hello, \n",
      "World!\n",
      "Hello, World!\n"
     ]
    }
   ],
   "source": [
    "# Strings in Python\n",
    "string1= \"Hello, \"\n",
    "string2= \"World!\"\n",
    "print(string1)\n",
    "print(string2)\n",
    "# Using plus operator\n",
    "string3=string1+string2\n",
    "print(string3)"
   ]
  },
  {
   "cell_type": "code",
   "execution_count": 25,
   "id": "b15f3db7",
   "metadata": {},
   "outputs": [
    {
     "name": "stdout",
     "output_type": "stream",
     "text": [
      "H\n",
      "e\n"
     ]
    }
   ],
   "source": [
    "# print 'H'\n",
    "print(string3[0])\n",
    "print(string3[1:2]) #prints 'He'"
   ]
  },
  {
   "cell_type": "code",
   "execution_count": 33,
   "id": "835b3572",
   "metadata": {},
   "outputs": [
    {
     "name": "stdout",
     "output_type": "stream",
     "text": [
      "Wo\n"
     ]
    }
   ],
   "source": [
    "print(string3[7:9]) # prints 'Wo'"
   ]
  },
  {
   "cell_type": "code",
   "execution_count": 42,
   "id": "ec83ab71",
   "metadata": {},
   "outputs": [
    {
     "name": "stdout",
     "output_type": "stream",
     "text": [
      "He\n",
      "!\n"
     ]
    }
   ],
   "source": [
    "print(string3[0:2])\n",
    "print(string3[-1])"
   ]
  },
  {
   "cell_type": "code",
   "execution_count": 45,
   "id": "4ff73228",
   "metadata": {},
   "outputs": [
    {
     "name": "stdout",
     "output_type": "stream",
     "text": [
      "World!\n"
     ]
    }
   ],
   "source": [
    "print(string3[7:13])"
   ]
  },
  {
   "cell_type": "code",
   "execution_count": 46,
   "id": "041636ed",
   "metadata": {},
   "outputs": [
    {
     "name": "stdout",
     "output_type": "stream",
     "text": [
      "hello, world!\n",
      "HELLO, WORLD!\n"
     ]
    }
   ],
   "source": [
    "# using in-built string methods\n",
    "print(string3.lower())\n",
    "print(string3.upper())"
   ]
  },
  {
   "cell_type": "code",
   "execution_count": 48,
   "id": "4b86f4d7",
   "metadata": {},
   "outputs": [
    {
     "name": "stdout",
     "output_type": "stream",
     "text": [
      "Hello, Mayen!\n",
      "Hi, World!\n"
     ]
    }
   ],
   "source": [
    "print(string3.replace(\"World\", \"Mayen\"))\n",
    "print(string3.replace(\"Hello\", \"Hi\"))"
   ]
  },
  {
   "cell_type": "code",
   "execution_count": 54,
   "id": "d05b414a",
   "metadata": {},
   "outputs": [
    {
     "name": "stdout",
     "output_type": "stream",
     "text": [
      "['H', 'y May', 'n, How ar', ' you doing?']\n",
      "['Hello,', 'World!']\n"
     ]
    }
   ],
   "source": [
    "text = \"Hey Mayen, How are you doing?\"\n",
    "words =text.split(\"e\")\n",
    "print(words)\n",
    "a=string3.split(\" \")\n",
    "print(a)"
   ]
  },
  {
   "cell_type": "code",
   "execution_count": 59,
   "id": "f3d60cea",
   "metadata": {},
   "outputs": [
    {
     "name": "stdout",
     "output_type": "stream",
     "text": [
      "Her name is Mayen, she is 28 years old and lives in Abuja.\n"
     ]
    }
   ],
   "source": [
    "name= \"Mayen\"\n",
    "age=28\n",
    "address= \"Abuja\"\n",
    "print(\"Her name is %s, she is %d years old and lives in %s.\" %(name, age, address))"
   ]
  },
  {
   "cell_type": "code",
   "execution_count": 64,
   "id": "fd059920",
   "metadata": {},
   "outputs": [
    {
     "name": "stdout",
     "output_type": "stream",
     "text": [
      "98, Battery street\n"
     ]
    }
   ],
   "source": [
    "number=98\n",
    "print(\"{}, Battery street\".format(number))"
   ]
  },
  {
   "cell_type": "code",
   "execution_count": 69,
   "id": "3c2e9198",
   "metadata": {},
   "outputs": [
    {
     "name": "stdout",
     "output_type": "stream",
     "text": [
      "Float: 3.14\n",
      "Float: 3.142\n"
     ]
    }
   ],
   "source": [
    "number=3.14159\n",
    "print(\"Float: {:.2f}\".format(number))\n",
    "print(\"Float: {:.3f}\".format(number))"
   ]
  },
  {
   "cell_type": "code",
   "execution_count": 71,
   "id": "15534a4a",
   "metadata": {},
   "outputs": [
    {
     "name": "stdout",
     "output_type": "stream",
     "text": [
      "Holberton SchoolHolberton SchoolHolberton School Holberton\n"
     ]
    }
   ],
   "source": [
    "str=\"Holberton School\"\n",
    "print(3*str, str[0:9])"
   ]
  },
  {
   "cell_type": "code",
   "execution_count": 74,
   "id": "5974459f",
   "metadata": {},
   "outputs": [
    {
     "name": "stdout",
     "output_type": "stream",
     "text": [
      "Welcome to Holberton School!\n"
     ]
    }
   ],
   "source": [
    "str1=\"Holberton\"\n",
    "str2=\"School\"\n",
    "str1=str1+\" \"+str2\n",
    "print(f\"Welcome to {str1}!\")"
   ]
  },
  {
   "cell_type": "code",
   "execution_count": 81,
   "id": "904ac6a9",
   "metadata": {},
   "outputs": [
    {
     "name": "stdout",
     "output_type": "stream",
     "text": [
      "The first 3 letters: Hol\n",
      "The last 2 letters: on\n",
      "The first and last letters omitted: olberto\n"
     ]
    }
   ],
   "source": [
    "word=\"Holberton\"\n",
    "word_first_3=word[0:3]\n",
    "word_last_2=word[-2:]\n",
    "middle_word=word[1:-1]\n",
    "print(f\"The first 3 letters: {word_first_3}\")\n",
    "print(f\"The last 2 letters: {word_last_2}\")\n",
    "print(f\"The first and last letters omitted: {middle_word}\")"
   ]
  },
  {
   "cell_type": "code",
   "execution_count": 90,
   "id": "45e516a4",
   "metadata": {},
   "outputs": [
    {
     "name": "stdout",
     "output_type": "stream",
     "text": [
      "object-oriented programming with Python\n"
     ]
    }
   ],
   "source": [
    "str1=\"Python is an interpreted, interactive, object-oriented programming\\\n",
    " language that combines remarkable power with very clear syntax\"\n",
    "print(str1[39:66],str1[107:111],str1[0:6])\n"
   ]
  },
  {
   "cell_type": "code",
   "execution_count": 91,
   "id": "1f94951f",
   "metadata": {},
   "outputs": [
    {
     "name": "stdout",
     "output_type": "stream",
     "text": [
      "The Zen of Python, by Tim Peters\n",
      "\n",
      "Beautiful is better than ugly.\n",
      "Explicit is better than implicit.\n",
      "Simple is better than complex.\n",
      "Complex is better than complicated.\n",
      "Flat is better than nested.\n",
      "Sparse is better than dense.\n",
      "Readability counts.\n",
      "Special cases aren't special enough to break the rules.\n",
      "Although practicality beats purity.\n",
      "Errors should never pass silently.\n",
      "Unless explicitly silenced.\n",
      "In the face of ambiguity, refuse the temptation to guess.\n",
      "There should be one-- and preferably only one --obvious way to do it.\n",
      "Although that way may not be obvious at first unless you're Dutch.\n",
      "Now is better than never.\n",
      "Although never is often better than *right* now.\n",
      "If the implementation is hard to explain, it's a bad idea.\n",
      "If the implementation is easy to explain, it may be a good idea.\n",
      "Namespaces are one honking great idea -- let's do more of those!\n"
     ]
    }
   ],
   "source": [
    "import this"
   ]
  },
  {
   "cell_type": "code",
   "execution_count": 93,
   "id": "6b788d99",
   "metadata": {},
   "outputs": [
    {
     "name": "stderr",
     "output_type": "stream",
     "text": [
      "\"and that piece of art is useful\" - Dora Korpar, 2015-10-19\n"
     ]
    },
    {
     "ename": "SystemExit",
     "evalue": "1",
     "output_type": "error",
     "traceback": [
      "An exception has occurred, use %tb to see the full traceback.\n",
      "\u001b[1;31mSystemExit\u001b[0m\u001b[1;31m:\u001b[0m 1\n"
     ]
    }
   ],
   "source": [
    "import sys\n",
    "\n",
    "sys.stderr.write(\"\\\"and that piece of art is useful\\\" - Dora Korpar, 2015-10-19\\n\")\n",
    "sys.exit(1)"
   ]
  },
  {
   "cell_type": "code",
   "execution_count": 97,
   "id": "ea9fee52",
   "metadata": {},
   "outputs": [
    {
     "name": "stdout",
     "output_type": "stream",
     "text": [
      "  3           0 RESUME                   0\n",
      "\n",
      "  4           2 LOAD_CONST               1 (98)\n",
      "              4 LOAD_FAST                0 (a)\n",
      "              6 LOAD_FAST                1 (b)\n",
      "              8 BINARY_OP                8 (**)\n",
      "             12 BINARY_OP                0 (+)\n",
      "             16 RETURN_VALUE\n"
     ]
    }
   ],
   "source": [
    "import dis\n",
    "\n",
    "def magic_calculation(a,b):\n",
    "    return 98 + (a ** b)\n",
    "dis.dis(magic_calculation)"
   ]
  },
  {
   "cell_type": "code",
   "execution_count": null,
   "id": "02ed151c",
   "metadata": {},
   "outputs": [],
   "source": []
  }
 ],
 "metadata": {
  "kernelspec": {
   "display_name": "Python 3 (ipykernel)",
   "language": "python",
   "name": "python3"
  },
  "language_info": {
   "codemirror_mode": {
    "name": "ipython",
    "version": 3
   },
   "file_extension": ".py",
   "mimetype": "text/x-python",
   "name": "python",
   "nbconvert_exporter": "python",
   "pygments_lexer": "ipython3",
   "version": "3.11.0"
  }
 },
 "nbformat": 4,
 "nbformat_minor": 5
}
