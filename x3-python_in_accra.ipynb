{
 "cells": [
  {
   "cell_type": "code",
   "execution_count": 1,
   "id": "3539eae2",
   "metadata": {},
   "outputs": [
    {
     "name": "stdout",
     "output_type": "stream",
     "text": [
      "Python for Beginners\n"
     ]
    }
   ],
   "source": [
    "# playing with strings\n",
    "course = \"Python for Beginners\"\n",
    "print(course)"
   ]
  },
  {
   "cell_type": "code",
   "execution_count": 2,
   "id": "11930283",
   "metadata": {},
   "outputs": [
    {
     "name": "stdout",
     "output_type": "stream",
     "text": [
      "CODING IN ACCRA\n"
     ]
    }
   ],
   "source": [
    "# Lets relate it to our experience\n",
    "activity = \"Coding in Accra\"\n",
    "print(activity.upper())"
   ]
  },
  {
   "cell_type": "code",
   "execution_count": 3,
   "id": "c7321664",
   "metadata": {},
   "outputs": [
    {
     "name": "stdout",
     "output_type": "stream",
     "text": [
      "Coding in Accra\n"
     ]
    }
   ],
   "source": [
    "print(activity)"
   ]
  },
  {
   "cell_type": "code",
   "execution_count": 4,
   "id": "aae0d626",
   "metadata": {},
   "outputs": [
    {
     "name": "stdout",
     "output_type": "stream",
     "text": [
      "5\n"
     ]
    }
   ],
   "source": [
    "print(activity.find(\"g\"))"
   ]
  },
  {
   "cell_type": "code",
   "execution_count": 11,
   "id": "07498e92",
   "metadata": {},
   "outputs": [
    {
     "name": "stdout",
     "output_type": "stream",
     "text": [
      "0\n"
     ]
    }
   ],
   "source": [
    "print(activity.find(\"C\"))"
   ]
  },
  {
   "cell_type": "code",
   "execution_count": 10,
   "id": "247b058b",
   "metadata": {},
   "outputs": [
    {
     "name": "stdout",
     "output_type": "stream",
     "text": [
      "Coding for Accra\n"
     ]
    }
   ],
   "source": [
    "print(activity.replace(\" in \", \" for \"))"
   ]
  },
  {
   "cell_type": "code",
   "execution_count": null,
   "id": "34855152",
   "metadata": {},
   "outputs": [],
   "source": [
    "# what to consider\n",
    "# how to find a character in more than one places ?"
   ]
  },
  {
   "cell_type": "code",
   "execution_count": 15,
   "id": "0eb48ae9",
   "metadata": {},
   "outputs": [
    {
     "name": "stdout",
     "output_type": "stream",
     "text": [
      "3\n"
     ]
    }
   ],
   "source": [
    "print(activity.find('in'))"
   ]
  },
  {
   "cell_type": "code",
   "execution_count": 14,
   "id": "b5814c4f",
   "metadata": {},
   "outputs": [
    {
     "name": "stdout",
     "output_type": "stream",
     "text": [
      "False\n",
      "True\n"
     ]
    }
   ],
   "source": [
    "print(\"coding\" in activity)\n",
    "print(\"Coding\" in activity)"
   ]
  },
  {
   "cell_type": "code",
   "execution_count": 19,
   "id": "d8e030e1",
   "metadata": {},
   "outputs": [
    {
     "name": "stdout",
     "output_type": "stream",
     "text": [
      "7\n",
      "13\n",
      "1\n",
      "3\n",
      "30\n",
      "1000\n"
     ]
    }
   ],
   "source": [
    "# back to arithmetics\n",
    "print(10 + 3) # addition\n",
    "print(10 % 3) # the remainder\n",
    "print(10 // 3) # division\n",
    "print(10 * 3) # product\n",
    "print(10 ** 3) #power of\n"
   ]
  },
  {
   "cell_type": "code",
   "execution_count": 23,
   "id": "85b866a2",
   "metadata": {},
   "outputs": [
    {
     "name": "stdout",
     "output_type": "stream",
     "text": [
      "3\n",
      "8\n",
      "2\n",
      "0\n"
     ]
    }
   ],
   "source": [
    "# a different style\n",
    "r=5\n",
    "r-= 2\n",
    "print(r)\n",
    "r += 5\n",
    "print(r)\n",
    "r %= 3\n",
    "print(r)\n",
    "r //= 3\n",
    "print(r)"
   ]
  },
  {
   "cell_type": "code",
   "execution_count": 27,
   "id": "aecebd0d",
   "metadata": {},
   "outputs": [
    {
     "name": "stdout",
     "output_type": "stream",
     "text": [
      "True\n",
      "True\n",
      "False\n",
      "True\n"
     ]
    }
   ],
   "source": [
    "# comparison and logical operators\n",
    "price = 27\n",
    "print(price > 10 and price < 30) # if both are true, output is true\n",
    "volume = 5\n",
    "print(volume > 1 or volume > 6) # if one is true, output is true\n",
    "age = 10\n",
    "print(age > 20)\n",
    "print(not age > 20) # if the opposite of the comparison is true, output is true"
   ]
  },
  {
   "cell_type": "code",
   "execution_count": 35,
   "id": "087325a4",
   "metadata": {},
   "outputs": [
    {
     "name": "stdout",
     "output_type": "stream",
     "text": [
      "It's a bit warm\n",
      "Done\n"
     ]
    }
   ],
   "source": [
    "temperature = 18\n",
    "\n",
    "if temperature > 30:\n",
    "    print(\"It's a hot day\")\n",
    "    print(\"Dont forget to drink plenty of water\")\n",
    "elif temperature > 10:\n",
    "    print(\"It's a bit warm\")\n",
    "elif temperature < 10:\n",
    "    print(\"It is very cold\")\n",
    "else:\n",
    "    print(\"It is a good day\")\n",
    "print(\"Done\")"
   ]
  },
  {
   "cell_type": "code",
   "execution_count": 38,
   "id": "28dd0f44",
   "metadata": {},
   "outputs": [
    {
     "name": "stdout",
     "output_type": "stream",
     "text": [
      "Enter your weight in kg: 65\n",
      "Weight in grams:  0.065\n"
     ]
    }
   ],
   "source": [
    "# Exercise 1: write a weight converting program\n",
    "weight_kg = int(input(\"Enter your weight in kg: \"))\n",
    "# convert weight in kg to g\n",
    "weight_g = weight_kg / 1000\n",
    "print(\"Weight in grams: \", str(weight_g))"
   ]
  },
  {
   "cell_type": "code",
   "execution_count": 92,
   "id": "e7f07b27",
   "metadata": {},
   "outputs": [
    {
     "name": "stdout",
     "output_type": "stream",
     "text": [
      "Enter your weight: 65\n",
      "K(g) or L(bs)K\n",
      "Weight in Lbs:  144.44444444444443\n"
     ]
    }
   ],
   "source": [
    "# Lets have this another way\n",
    "# User have to provide weight and indicate unit of weight inputed\n",
    "weight = int(input(\"Enter your weight: \"))\n",
    "# indicate unit of weight\n",
    "unit = input(\"K(g) or L(bs)\") # kilograms or pounds\n",
    "if unit.upper() == \"K\":\n",
    "    convert = weight / 0.45\n",
    "    print(\"Weight in Lbs: \", str(convert))\n",
    "else:\n",
    "    convert = weight * 0.45\n",
    "    print(\"Weight in Kg: \", str(convert))    "
   ]
  },
  {
   "cell_type": "code",
   "execution_count": null,
   "id": "ccff13d3",
   "metadata": {},
   "outputs": [],
   "source": []
  }
 ],
 "metadata": {
  "kernelspec": {
   "display_name": "Python 3 (ipykernel)",
   "language": "python",
   "name": "python3"
  },
  "language_info": {
   "codemirror_mode": {
    "name": "ipython",
    "version": 3
   },
   "file_extension": ".py",
   "mimetype": "text/x-python",
   "name": "python",
   "nbconvert_exporter": "python",
   "pygments_lexer": "ipython3",
   "version": "3.11.0"
  }
 },
 "nbformat": 4,
 "nbformat_minor": 5
}
