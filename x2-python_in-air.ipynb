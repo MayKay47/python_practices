{
 "cells": [
  {
   "cell_type": "code",
   "execution_count": null,
   "id": "438b7e39",
   "metadata": {},
   "outputs": [],
   "source": [
    "# An exercise to play around variables\n",
    "patient_name = \"John Smith\"\n",
    "patient_age = 20\n",
    "patient_status = \"New\""
   ]
  },
  {
   "cell_type": "code",
   "execution_count": 4,
   "id": "4563e6af",
   "metadata": {
    "collapsed": true
   },
   "outputs": [
    {
     "name": "stdout",
     "output_type": "stream",
     "text": [
      "What is your name? Mayen\n",
      "Hello Mayen\n"
     ]
    }
   ],
   "source": [
    "name = input(\"What is your name? \")\n",
    "print(\"Hello \" + name)"
   ]
  },
  {
   "cell_type": "code",
   "execution_count": 7,
   "id": "0dac1914",
   "metadata": {},
   "outputs": [
    {
     "name": "stdout",
     "output_type": "stream",
     "text": [
      "Enter your birth year: 1994\n",
      "29\n",
      "Enter your birth year: 1994\n",
      "29\n"
     ]
    }
   ],
   "source": [
    "# To calculate the age of a user\n",
    "birth_year = input(\"Enter your birth year: \") # this will give a string data type\n",
    "birth_year = int(birth_year) # to convert the string to an integer\n",
    "age = 2023 - birth_year\n",
    "print(age)\n",
    "\n",
    "# another way\n",
    "birth_year = int(input(\"Enter your birth year: \")) # this converts the value directly from string(textual data) to integer\n",
    "age = 2023 - birth_year\n",
    "print(age)"
   ]
  },
  {
   "cell_type": "code",
   "execution_count": 11,
   "id": "bbe7d13e",
   "metadata": {},
   "outputs": [
    {
     "name": "stdout",
     "output_type": "stream",
     "text": [
      "First: 13\n",
      "Second: 19\n",
      "32\n"
     ]
    }
   ],
   "source": [
    "# to calculate to given number\n",
    "# learning to convert data types\n",
    "# string converts to integer\n",
    "first = int(input(\"First: \"))\n",
    "second = int(input(\"Second: \"))\n",
    "sum = first + second\n",
    "print(sum)\n"
   ]
  },
  {
   "cell_type": "code",
   "execution_count": 15,
   "id": "67ce2045",
   "metadata": {},
   "outputs": [
    {
     "name": "stdout",
     "output_type": "stream",
     "text": [
      "First: 2.3\n",
      "Second: 4.8\n",
      "7.1\n",
      "Sum: 7.1\n"
     ]
    }
   ],
   "source": [
    "# if it a float data\n",
    "first = float(input(\"First: \"))\n",
    "second = float(input(\"Second: \"))\n",
    "sum = first + second\n",
    "print(sum)\n",
    "# cannot concatenate float to a string\n",
    "# to do this, float has to be converted to a str, hence:\n",
    "print(\"Sum: \" + str(sum))"
   ]
  }
 ],
 "metadata": {
  "kernelspec": {
   "display_name": "Python 3 (ipykernel)",
   "language": "python",
   "name": "python3"
  },
  "language_info": {
   "codemirror_mode": {
    "name": "ipython",
    "version": 3
   },
   "file_extension": ".py",
   "mimetype": "text/x-python",
   "name": "python",
   "nbconvert_exporter": "python",
   "pygments_lexer": "ipython3",
   "version": "3.11.0"
  }
 },
 "nbformat": 4,
 "nbformat_minor": 5
}
