{
 "cells": [
  {
   "cell_type": "code",
   "execution_count": 1,
   "id": "0a334979",
   "metadata": {},
   "outputs": [
    {
     "name": "stdout",
     "output_type": "stream",
     "text": [
      "p is positive\n",
      "p is negative\n"
     ]
    }
   ],
   "source": [
    "# Exploring if-else statements in python\n",
    "p=3\n",
    "if p > 0:\n",
    "    print(\"p is positive\")\n",
    "else:\n",
    "    print(\"p is negative\")\n",
    "\n",
    "p=-2\n",
    "if p > 0:\n",
    "    print(\"p is positive\")\n",
    "else:\n",
    "    print(\"p is negative\")"
   ]
  },
  {
   "cell_type": "code",
   "execution_count": 2,
   "id": "68e7c894",
   "metadata": {},
   "outputs": [
    {
     "name": "stdout",
     "output_type": "stream",
     "text": [
      "w is zero\n"
     ]
    }
   ],
   "source": [
    "# Using the if-elifs-else statment\n",
    "w=0\n",
    "if w > 0:\n",
    "    print(\"w is positive\")\n",
    "elif w < 0:\n",
    "    print(\"w is negative\")\n",
    "else:\n",
    "    print(\"w is zero\")"
   ]
  },
  {
   "cell_type": "code",
   "execution_count": 3,
   "id": "2ce365cd",
   "metadata": {},
   "outputs": [
    {
     "name": "stdout",
     "output_type": "stream",
     "text": [
      "1\n",
      "2\n",
      "3\n",
      "4\n",
      "5\n",
      "2\n",
      "4\n",
      "6\n"
     ]
    }
   ],
   "source": [
    "# Using loops in python ('for' and 'while')\n",
    "# 'for' loop statement\n",
    "for n in [1, 2, 3, 4, 5]:\n",
    "    print(n)\n",
    "    \n",
    "for d in [2, 4, 6]:\n",
    "    print(d)\n"
   ]
  },
  {
   "cell_type": "code",
   "execution_count": 5,
   "id": "30aae9d9",
   "metadata": {},
   "outputs": [],
   "source": [
    "# \"while\" loop statement\n",
    "x = 5\n",
    "while x < 0:\n",
    "    print(x)\n",
    "    x = x + 1\n",
    "# take note, except you close the while loop, it will keep running unending\n",
    "# i have experienced it first hand when i changed the condition to x < 0"
   ]
  },
  {
   "cell_type": "code",
   "execution_count": 6,
   "id": "29a014ab",
   "metadata": {},
   "outputs": [
    {
     "data": {
      "text/plain": [
       "range(0, 4)"
      ]
     },
     "execution_count": 6,
     "metadata": {},
     "output_type": "execute_result"
    }
   ],
   "source": [
    "range(4)"
   ]
  },
  {
   "cell_type": "code",
   "execution_count": 8,
   "id": "f9005d11",
   "metadata": {},
   "outputs": [
    {
     "name": "stdout",
     "output_type": "stream",
     "text": [
      "2\n",
      "2\n",
      "2\n",
      "2\n",
      "2\n"
     ]
    }
   ],
   "source": [
    "for i in range(5):\n",
    "    i = 2\n",
    "    print(i)"
   ]
  },
  {
   "cell_type": "code",
   "execution_count": 9,
   "id": "462b1f5c",
   "metadata": {},
   "outputs": [
    {
     "name": "stdout",
     "output_type": "stream",
     "text": [
      "66\n"
     ]
    }
   ],
   "source": [
    "# just a side knowledge that came through\n",
    "# this is to translate a character to ascii value\n",
    "i=\"B\"\n",
    "print(ord(i))"
   ]
  },
  {
   "cell_type": "code",
   "execution_count": null,
   "id": "da52fb82",
   "metadata": {},
   "outputs": [],
   "source": [
    "x=int(input(\"please input your age:\"))\n",
    "if x < 5:\n",
    "    print(\"too young for school\")\n",
    "elif 5 <= x <= 10:\n",
    "    print(\"ready for school\")\n",
    "else:\n",
    "    print(\"too old for school\")"
   ]
  },
  {
   "cell_type": "code",
   "execution_count": null,
   "id": "efbd90f5",
   "metadata": {},
   "outputs": [],
   "source": [
    "# create a bytearray\n",
    "data = bytearray([97,98,99,100])\n",
    "print(data)"
   ]
  },
  {
   "cell_type": "code",
   "execution_count": 16,
   "id": "e01dbb6e",
   "metadata": {},
   "outputs": [
    {
     "name": "stdout",
     "output_type": "stream",
     "text": [
      "100\n"
     ]
    }
   ],
   "source": [
    "# manipulate it\n",
    "print(data[-1])"
   ]
  },
  {
   "cell_type": "code",
   "execution_count": 17,
   "id": "ab974786",
   "metadata": {},
   "outputs": [
    {
     "name": "stdout",
     "output_type": "stream",
     "text": [
      "97\n"
     ]
    }
   ],
   "source": [
    "print(data[0])"
   ]
  },
  {
   "cell_type": "code",
   "execution_count": 18,
   "id": "b8198fb4",
   "metadata": {},
   "outputs": [
    {
     "name": "stdout",
     "output_type": "stream",
     "text": [
      "bytearray(b'apcd')\n"
     ]
    }
   ],
   "source": [
    "data[1] = 112\n",
    "print(data)"
   ]
  },
  {
   "cell_type": "code",
   "execution_count": 20,
   "id": "3b05c266",
   "metadata": {},
   "outputs": [
    {
     "name": "stdout",
     "output_type": "stream",
     "text": [
      "apcd\n"
     ]
    }
   ],
   "source": [
    "# to convert bytes to string using the 'decode' method\n",
    "string = data.decode()\n",
    "print(string)"
   ]
  },
  {
   "cell_type": "code",
   "execution_count": 26,
   "id": "5b03604d",
   "metadata": {},
   "outputs": [
    {
     "name": "stdout",
     "output_type": "stream",
     "text": [
      "112\n",
      "<memory at 0x0000014C5CF6E140>\n"
     ]
    }
   ],
   "source": [
    "mv = memoryview(data)\n",
    "print(mv[1])\n",
    "print(mv[1:2])"
   ]
  },
  {
   "cell_type": "code",
   "execution_count": 29,
   "id": "3aa1d3c1",
   "metadata": {},
   "outputs": [
    {
     "name": "stdout",
     "output_type": "stream",
     "text": [
      "2\n",
      "1\n",
      "3\n"
     ]
    }
   ],
   "source": [
    "# assigning value to variable\n",
    "# single\n",
    "a = 4\n",
    "bell_view = 56\n",
    "# multiple at once\n",
    "p, q, r = 1, 2, 3\n",
    "print(q)\n",
    "print(p)\n",
    "p = r\n",
    "print(p)"
   ]
  },
  {
   "cell_type": "code",
   "execution_count": 36,
   "id": "e022156d",
   "metadata": {},
   "outputs": [
    {
     "name": "stdout",
     "output_type": "stream",
     "text": [
      "9\n",
      "18\n"
     ]
    }
   ],
   "source": [
    "# another operation\n",
    "j = 7\n",
    "j += 2\n",
    "print(j)\n",
    "j*= 2\n",
    "print(j)"
   ]
  },
  {
   "cell_type": "code",
   "execution_count": 37,
   "id": "9a93915a",
   "metadata": {},
   "outputs": [
    {
     "name": "stdout",
     "output_type": "stream",
     "text": [
      "4\n"
     ]
    }
   ],
   "source": [
    "x=input()"
   ]
  },
  {
   "cell_type": "code",
   "execution_count": 40,
   "id": "6e52fed3",
   "metadata": {},
   "outputs": [
    {
     "name": "stdout",
     "output_type": "stream",
     "text": [
      "3\n"
     ]
    }
   ],
   "source": [
    "# convert decimal to a whole number\n",
    "x=3.244\n",
    "y=int(x)\n",
    "print(y)"
   ]
  },
  {
   "cell_type": "code",
   "execution_count": null,
   "id": "67dd3d59",
   "metadata": {},
   "outputs": [],
   "source": []
  }
 ],
 "metadata": {
  "kernelspec": {
   "display_name": "Python 3 (ipykernel)",
   "language": "python",
   "name": "python3"
  },
  "language_info": {
   "codemirror_mode": {
    "name": "ipython",
    "version": 3
   },
   "file_extension": ".py",
   "mimetype": "text/x-python",
   "name": "python",
   "nbconvert_exporter": "python",
   "pygments_lexer": "ipython3",
   "version": "3.11.0"
  }
 },
 "nbformat": 4,
 "nbformat_minor": 5
}
