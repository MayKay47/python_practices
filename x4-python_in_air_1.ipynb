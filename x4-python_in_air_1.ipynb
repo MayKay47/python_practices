{
 "cells": [
  {
   "cell_type": "code",
   "execution_count": 1,
   "id": "8010a9d1",
   "metadata": {},
   "outputs": [
    {
     "name": "stdout",
     "output_type": "stream",
     "text": [
      "1\n",
      "2\n",
      "3\n",
      "4\n",
      "5\n"
     ]
    }
   ],
   "source": [
    "# while loops\n",
    "h = 1\n",
    "while h < 6:\n",
    "    print(h)\n",
    "    h = h + 1"
   ]
  },
  {
   "cell_type": "code",
   "execution_count": 4,
   "id": "e7bb5505",
   "metadata": {},
   "outputs": [
    {
     "name": "stdout",
     "output_type": "stream",
     "text": [
      "1\n",
      "2\n",
      "3\n",
      "4\n",
      "5\n",
      "6\n"
     ]
    }
   ],
   "source": [
    "# using augmented operators\n",
    "w = 1\n",
    "while w <= 6:\n",
    "    print(w)\n",
    "    w = w + 1"
   ]
  },
  {
   "cell_type": "code",
   "execution_count": 5,
   "id": "def63414",
   "metadata": {},
   "outputs": [
    {
     "name": "stdout",
     "output_type": "stream",
     "text": [
      "*\n",
      "**\n",
      "***\n",
      "****\n",
      "*****\n",
      "******\n",
      "*******\n",
      "********\n",
      "*********\n",
      "**********\n"
     ]
    }
   ],
   "source": [
    "# also lets spice it a little\n",
    "z = 1\n",
    "while z <= 10:\n",
    "    print(z * '*')\n",
    "    z = z + 1"
   ]
  },
  {
   "cell_type": "code",
   "execution_count": 11,
   "id": "de81b3e4",
   "metadata": {},
   "outputs": [
    {
     "name": "stdout",
     "output_type": "stream",
     "text": [
      "May\n",
      "Sam\n",
      "Martha\n",
      "['May', 'Jon', 'Dan', 'Martha', 'Sam']\n",
      "['May', 'Jon', 'Dan']\n"
     ]
    }
   ],
   "source": [
    "# lists\n",
    "names = ['May', 'John', 'Dan', 'Martha', 'Sam']\n",
    "print(names[0])\n",
    "print(names[-1])\n",
    "print(names[-2])\n",
    "# to change an item\n",
    "names[1] = 'Jon'\n",
    "print(names)\n",
    "print(names[0:3])"
   ]
  },
  {
   "cell_type": "code",
   "execution_count": 23,
   "id": "681f3321",
   "metadata": {},
   "outputs": [
    {
     "name": "stdout",
     "output_type": "stream",
     "text": [
      "[1, 2, 3, 4, 5, 6]\n",
      "[0, 1, 2, 3, 4, 5, 6]\n",
      "True\n",
      "False\n",
      "[0, 2, 3, 4, 5, 6]\n",
      "[0, 2, 4, 5, 6]\n",
      "[0, 2, 4, 6]\n",
      "4\n",
      "[]\n"
     ]
    }
   ],
   "source": [
    "# list methods \n",
    "# exploring insert(), append(), clear(), remove()\n",
    "numbers = [1, 2, 3, 4, 5]\n",
    "numbers.append(6) # adds an item to the end of the list\n",
    "print(numbers)\n",
    "numbers.insert(0, 0) # to add an item at a position in the list -index\n",
    "print(numbers)\n",
    "print(4 in numbers) # check if an item is present in the list\n",
    "print(7 in numbers)\n",
    "numbers.remove(1) # omits an item from the list\n",
    "print(numbers)\n",
    "numbers.remove(3)\n",
    "print(numbers)\n",
    "numbers.remove(5)\n",
    "print(numbers)\n",
    "print(len(numbers)) # to determine the number of items in the list\n",
    "numbers.clear() # to delete all items in the list, giving an empty list\n",
    "print(numbers)"
   ]
  },
  {
   "cell_type": "code",
   "execution_count": 24,
   "id": "e07011c4",
   "metadata": {},
   "outputs": [
    {
     "name": "stdout",
     "output_type": "stream",
     "text": [
      "1\n",
      "2\n",
      "3\n",
      "4\n"
     ]
    }
   ],
   "source": [
    "# back to loops with list\n",
    "# for loops\n",
    "numbers = [1, 2, 3, 4]\n",
    "for item in numbers:\n",
    "    print(item)    "
   ]
  },
  {
   "cell_type": "code",
   "execution_count": 26,
   "id": "e4453b99",
   "metadata": {},
   "outputs": [
    {
     "name": "stdout",
     "output_type": "stream",
     "text": [
      "1\n",
      "2\n",
      "3\n",
      "4\n",
      "2\n",
      "4\n",
      "6\n",
      "8\n",
      "10\n"
     ]
    }
   ],
   "source": [
    "# while loops\n",
    "f = 0 # a varible standing for index \n",
    "while f < len(numbers): # variable from above cell\n",
    "    print(numbers[f])\n",
    "    f = f + 1\n",
    "    \n",
    "# lets make a list\n",
    "num = [2, 4, 6, 8, 10]\n",
    "n = 0\n",
    "while n < len(num):\n",
    "    print(num[n]) # this outputs the item at position n\n",
    "    n = n + 1 # increment of the position"
   ]
  },
  {
   "cell_type": "code",
   "execution_count": 38,
   "id": "0a0bb1ad",
   "metadata": {},
   "outputs": [
    {
     "name": "stdout",
     "output_type": "stream",
     "text": [
      "0\n",
      "1\n",
      "2\n",
      "3\n",
      "4\n",
      "----\n",
      "5\n",
      "6\n",
      "7\n",
      "8\n",
      "9\n",
      "******\n",
      "0\n",
      "2\n",
      "4\n",
      "6\n",
      "8\n",
      "/////\n",
      "5\n",
      "8\n",
      "11\n",
      "14\n",
      "17\n"
     ]
    }
   ],
   "source": [
    "# range\n",
    "range(5)\n",
    "numbers_1 = range(5) # range(a): a is the ending value being exluded with a starting value of 0\n",
    "for number in numbers_1:\n",
    "    print(number)\n",
    "    \n",
    "print(\"----\")\n",
    "\n",
    "numbers_2 = range(5, 10) #range(a, b): a is starting value, b ending value being excluded \n",
    "for number in numbers_2:\n",
    "    print(number)\n",
    "    \n",
    "print(\"******\")\n",
    "\n",
    "numbers_3 = range(0, 10, 2) #range(a, b, c): a is stating value, b is ending value with values taken every c step\n",
    "for number in numbers_3:\n",
    "    print(number)\n",
    "    \n",
    "print(\"/////\")\n",
    "\n",
    "# this can be done storing range in a variable\n",
    "for number in range(5, 20, 3):\n",
    "    print(number)"
   ]
  },
  {
   "cell_type": "code",
   "execution_count": 46,
   "id": "7c57f731",
   "metadata": {},
   "outputs": [
    {
     "name": "stdout",
     "output_type": "stream",
     "text": [
      "2\n",
      "1\n",
      "3\n",
      "3\n"
     ]
    }
   ],
   "source": [
    "# tuples ....count() and index() methods\n",
    "numbers = (1, 2, 2, 3, 3, 4, 4, 4)\n",
    "print(numbers.count(3)) # returns the number of times an item occurs\n",
    "print(numbers.count(1))\n",
    "print(numbers.count(4))"
   ]
  },
  {
   "cell_type": "code",
   "execution_count": null,
   "id": "75a812e0",
   "metadata": {},
   "outputs": [],
   "source": []
  }
 ],
 "metadata": {
  "kernelspec": {
   "display_name": "Python 3 (ipykernel)",
   "language": "python",
   "name": "python3"
  },
  "language_info": {
   "codemirror_mode": {
    "name": "ipython",
    "version": 3
   },
   "file_extension": ".py",
   "mimetype": "text/x-python",
   "name": "python",
   "nbconvert_exporter": "python",
   "pygments_lexer": "ipython3",
   "version": "3.11.0"
  }
 },
 "nbformat": 4,
 "nbformat_minor": 5
}
